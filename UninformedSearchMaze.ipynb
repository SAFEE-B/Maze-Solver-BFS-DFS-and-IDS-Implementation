{
 "cells": [
  {
   "cell_type": "markdown",
   "metadata": {},
   "source": [
    "The Maze Graph"
   ]
  },
  {
   "cell_type": "code",
   "execution_count": 1,
   "metadata": {},
   "outputs": [],
   "source": [
    "### 1. Importing Required Libraries\n",
    "\n",
    "from collections import deque\n",
    "\n",
    "### 2. Defining the Graph\n",
    "\n",
    "graph = {\n",
    "    'A': ['S'],\n",
    "    'B': ['D', 'S', 'C'],\n",
    "    'C': ['J', 'B'],\n",
    "    'D': ['G', 'S', 'B'],\n",
    "    'E': ['G', 'S'],\n",
    "    'F': ['H', 'G'],\n",
    "    'G': ['H', 'F', 'E', 'D'],\n",
    "    'H': ['F', 'G', 'I'],\n",
    "    'I': ['H', 'J'],\n",
    "    'J': ['I', 'C'],\n",
    "    'S': ['E', 'D', 'A', 'B']\n",
    "}\n"
   ]
  },
  {
   "cell_type": "markdown",
   "metadata": {},
   "source": [
    "Implementing Search With Bfs"
   ]
  },
  {
   "cell_type": "code",
   "execution_count": 5,
   "metadata": {},
   "outputs": [
    {
     "name": "stdout",
     "output_type": "stream",
     "text": [
      "Curr: S\n",
      "Curr: E\n",
      "Curr: D\n",
      "Curr: A\n",
      "Curr: B\n",
      "Curr: G\n",
      "Curr: C\n",
      "Curr: H\n",
      "Curr: F\n",
      "Curr: J\n",
      "Curr: I\n",
      "Goal reached: I <- <- H <- G <- E <- S "
     ]
    }
   ],
   "source": [
    "\n",
    "### 3. Breadth-First Search (BFS) Function\n",
    "\n",
    "def bfs(graph, start, goal):\n",
    "    visited = []\n",
    "    queue = deque([start])\n",
    "    visited.append(start)\n",
    "    parent = {start: None}\n",
    "\n",
    "    while queue:\n",
    "        current = queue.popleft()  # Dequeue from the front (FIFO)\n",
    "        print('Curr:', current)\n",
    "\n",
    "        if current == goal:  # Goal check\n",
    "            print('Goal reached:', current, '<-',end=' ')\n",
    "            while current is not None:\n",
    "                if parent[current] is None:\n",
    "                    break\n",
    "                print('<-', parent[current],end=' ')\n",
    "                current = parent[current]\n",
    "            return\n",
    "\n",
    "        for neighbor in graph[current]:\n",
    "            if neighbor not in visited:\n",
    "                queue.append(neighbor)  # Enqueue\n",
    "                visited.append(neighbor)  # Mark as visited\n",
    "                parent[neighbor] = current\n",
    "\n",
    "bfs(graph,'S','I')\n"
   ]
  },
  {
   "cell_type": "code",
   "execution_count": null,
   "metadata": {},
   "outputs": [],
   "source": [
    "Implementing Search with Dfs"
   ]
  },
  {
   "cell_type": "code",
   "execution_count": 6,
   "metadata": {},
   "outputs": [
    {
     "name": "stdout",
     "output_type": "stream",
     "text": [
      "Curr: S\n",
      "Curr: E\n",
      "Curr: D\n",
      "Curr: A\n",
      "Curr: B\n",
      "Curr: G\n",
      "Curr: C\n",
      "Curr: H\n",
      "Curr: F\n",
      "Curr: J\n",
      "Curr: I\n",
      "Goal reached: I <- <- H <- G <- E <- S "
     ]
    }
   ],
   "source": [
    "### 4. Depth-First Search (DFS) Function\n",
    "\n",
    "def dfs(graph, start, goal):\n",
    "    visited = []\n",
    "    stack = deque([start])\n",
    "    visited.append(start)\n",
    "    parent = {start: None}\n",
    "\n",
    "    while stack:\n",
    "        current = stack.pop()  # Pop from the end (LIFO)\n",
    "        print('Curr:', current)\n",
    "\n",
    "        if current == goal:  # Goal check\n",
    "            print('Goal reached:', current, '<-',end=' ')\n",
    "            while current is not None:\n",
    "                if parent[current] is None:\n",
    "                    break\n",
    "                print('<-', parent[current],end=' ')\n",
    "                current = parent[current]\n",
    "            return\n",
    "\n",
    "        for neighbor in graph[current]:\n",
    "            if neighbor not in visited:\n",
    "                stack.appendleft(neighbor)  # Push to stack\n",
    "                visited.append(neighbor)  # Mark as visited\n",
    "                parent[neighbor] = current\n",
    "\n",
    "dfs(graph,'S','I')"
   ]
  },
  {
   "cell_type": "markdown",
   "metadata": {},
   "source": [
    "Implementing Search with Iterative DFS"
   ]
  },
  {
   "cell_type": "code",
   "execution_count": 11,
   "metadata": {},
   "outputs": [
    {
     "name": "stdout",
     "output_type": "stream",
     "text": [
      "Curr: S\n",
      "Curr: E\n",
      "Curr: D\n",
      "Curr: A\n",
      "Curr: B\n",
      "Curr: G\n",
      "Curr: C\n",
      "Curr: H\n",
      "Curr: F\n",
      "Curr: J\n",
      "NOT FOUND IN DEPTH\n"
     ]
    }
   ],
   "source": [
    "### 5. Iterative Deepening Search (IDS) Function\n",
    "\n",
    "def ids(graph, start, goal, maxDepth):\n",
    "    visited = []\n",
    "    stack = deque([(start, 0)])\n",
    "    visited.append(start)\n",
    "    parent = {start: None}\n",
    "\n",
    "    while stack:\n",
    "        current, current_depth = stack.pop()  # Pop from the end (LIFO)\n",
    "        print('Curr:', current)\n",
    "\n",
    "        if current == goal:  # Goal check\n",
    "            print('Goal reached:', current, '<-',end=' ')\n",
    "            while current is not None:\n",
    "                if parent[current] is None:\n",
    "                    break\n",
    "                print('<-', parent[current],end=' ')\n",
    "                current = parent[current]\n",
    "            return True\n",
    "\n",
    "        if current_depth < maxDepth:\n",
    "            for neighbor in graph[current]:\n",
    "                if neighbor not in visited:\n",
    "                    stack.appendleft((neighbor, current_depth + 1))  # Push to stack\n",
    "                    visited.append(neighbor)  # Mark as visited\n",
    "                    parent[neighbor] = current\n",
    "\n",
    "    return False\n",
    "\n",
    "### 6. Running Iterative Deepening Search (IDS)\n",
    "\n",
    "if not ids(graph, 'S', 'I', 3):\n",
    "    print('NOT FOUND IN DEPTH')\n"
   ]
  }
 ],
 "metadata": {
  "kernelspec": {
   "display_name": "base",
   "language": "python",
   "name": "python3"
  },
  "language_info": {
   "codemirror_mode": {
    "name": "ipython",
    "version": 3
   },
   "file_extension": ".py",
   "mimetype": "text/x-python",
   "name": "python",
   "nbconvert_exporter": "python",
   "pygments_lexer": "ipython3",
   "version": "3.12.4"
  }
 },
 "nbformat": 4,
 "nbformat_minor": 2
}
